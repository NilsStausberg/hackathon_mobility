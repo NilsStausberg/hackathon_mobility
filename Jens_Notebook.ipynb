{
 "cells": [
  {
   "cell_type": "code",
   "execution_count": 1,
   "metadata": {},
   "outputs": [],
   "source": [
    "import numpy as np\n",
    "import pandas as pd"
   ]
  },
  {
   "cell_type": "code",
   "execution_count": 2,
   "metadata": {},
   "outputs": [],
   "source": [
    "FILE_PATH_ = \"Mobility/\""
   ]
  },
  {
   "cell_type": "code",
   "execution_count": 3,
   "metadata": {},
   "outputs": [],
   "source": [
    "df_Friedberg = pd.read_csv('Mobility/Messstationen Luftqualitaet/FrankfurtFriedbergerLandstr_new/messwerte.txt',na_values='-',  delimiter=';', parse_dates= [['Datum','Zeit']])\n",
    "df_Ost = pd.read_csv('Mobility/Messstationen Luftqualitaet/FrankfurtOst_new/messwerte.txt', na_values='-', delimiter=';', parse_dates= [['Datum','Zeit']])\n",
    "df_Ost.fillna(method='ffill', inplace=True)\n",
    "df_Schwan = pd.read_csv('Mobility/Messstationen Luftqualitaet/FrankfurtSchwanheim/messwerte.txt', na_values='-', delimiter=';', parse_dates= [['Datum','Zeit']])\n",
    "df_Schwan.fillna(method='ffill', inplace=True)\n",
    "df_Hochst = pd.read_csv('Mobility/Messstationen Luftqualitaet/FrankfurtHöchst_new/messwerte.txt', na_values='-', delimiter=';', parse_dates= [['Datum','Zeit']])"
   ]
  },
  {
   "cell_type": "code",
   "execution_count": 4,
   "metadata": {},
   "outputs": [
    {
     "data": {
      "text/html": [
       "<div>\n",
       "<style scoped>\n",
       "    .dataframe tbody tr th:only-of-type {\n",
       "        vertical-align: middle;\n",
       "    }\n",
       "\n",
       "    .dataframe tbody tr th {\n",
       "        vertical-align: top;\n",
       "    }\n",
       "\n",
       "    .dataframe thead th {\n",
       "        text-align: right;\n",
       "    }\n",
       "</style>\n",
       "<table border=\"1\" class=\"dataframe\">\n",
       "  <thead>\n",
       "    <tr style=\"text-align: right;\">\n",
       "      <th></th>\n",
       "      <th>Datum_Zeit</th>\n",
       "      <th>Stickstoffmonoxid (NO)[µg/m³]</th>\n",
       "      <th>Stickstoffdioxid (NO2)[µg/m³]</th>\n",
       "    </tr>\n",
       "  </thead>\n",
       "  <tbody>\n",
       "    <tr>\n",
       "      <th>0</th>\n",
       "      <td>01.07.2018 00:30</td>\n",
       "      <td>8.9</td>\n",
       "      <td>23.2</td>\n",
       "    </tr>\n",
       "    <tr>\n",
       "      <th>1</th>\n",
       "      <td>01.07.2018 01:00</td>\n",
       "      <td>15.2</td>\n",
       "      <td>22.2</td>\n",
       "    </tr>\n",
       "    <tr>\n",
       "      <th>2</th>\n",
       "      <td>01.07.2018 01:30</td>\n",
       "      <td>14.9</td>\n",
       "      <td>24.3</td>\n",
       "    </tr>\n",
       "    <tr>\n",
       "      <th>3</th>\n",
       "      <td>01.07.2018 02:00</td>\n",
       "      <td>10.8</td>\n",
       "      <td>18.5</td>\n",
       "    </tr>\n",
       "    <tr>\n",
       "      <th>4</th>\n",
       "      <td>01.07.2018 02:30</td>\n",
       "      <td>10.6</td>\n",
       "      <td>23.9</td>\n",
       "    </tr>\n",
       "  </tbody>\n",
       "</table>\n",
       "</div>"
      ],
      "text/plain": [
       "         Datum_Zeit  Stickstoffmonoxid (NO)[µg/m³]  \\\n",
       "0  01.07.2018 00:30                            8.9   \n",
       "1  01.07.2018 01:00                           15.2   \n",
       "2  01.07.2018 01:30                           14.9   \n",
       "3  01.07.2018 02:00                           10.8   \n",
       "4  01.07.2018 02:30                           10.6   \n",
       "\n",
       "   Stickstoffdioxid (NO2)[µg/m³]  \n",
       "0                           23.2  \n",
       "1                           22.2  \n",
       "2                           24.3  \n",
       "3                           18.5  \n",
       "4                           23.9  "
      ]
     },
     "execution_count": 4,
     "metadata": {},
     "output_type": "execute_result"
    }
   ],
   "source": [
    "df_Friedberg.head()"
   ]
  },
  {
   "cell_type": "code",
   "execution_count": 5,
   "metadata": {},
   "outputs": [],
   "source": [
    "from dateutil.parser import parse\n",
    "df_Friedberg.drop(df_Friedberg.loc[df_Friedberg.Datum_Zeit.str.contains('24:00')].index,axis = 0, inplace = True)\n",
    "df_Friedberg.Datum_Zeit = df_Friedberg.Datum_Zeit.apply(lambda x: parse(x))\n",
    "df_Hochst.drop(df_Hochst.loc[df_Hochst.Datum_Zeit.str.contains('24:00')].index,axis = 0, inplace = True)\n",
    "df_Hochst.Datum_Zeit = df_Hochst.Datum_Zeit.apply(lambda x: parse(x))\n",
    "df_Ost.drop(df_Ost.loc[df_Ost.Datum_Zeit.str.contains('24:00')].index,axis = 0, inplace = True)\n",
    "df_Ost.Datum_Zeit = df_Ost.Datum_Zeit.apply(lambda x: parse(x))\n",
    "df_Schwan.drop(df_Schwan.loc[df_Schwan.Datum_Zeit.str.contains('24:00')].index,axis = 0, inplace = True)\n",
    "df_Schwan.Datum_Zeit = df_Schwan.Datum_Zeit.apply(lambda x: parse(x))"
   ]
  },
  {
   "cell_type": "code",
   "execution_count": 6,
   "metadata": {},
   "outputs": [
    {
     "data": {
      "text/html": [
       "<div>\n",
       "<style scoped>\n",
       "    .dataframe tbody tr th:only-of-type {\n",
       "        vertical-align: middle;\n",
       "    }\n",
       "\n",
       "    .dataframe tbody tr th {\n",
       "        vertical-align: top;\n",
       "    }\n",
       "\n",
       "    .dataframe thead th {\n",
       "        text-align: right;\n",
       "    }\n",
       "</style>\n",
       "<table border=\"1\" class=\"dataframe\">\n",
       "  <thead>\n",
       "    <tr style=\"text-align: right;\">\n",
       "      <th></th>\n",
       "      <th>Datum_Zeit</th>\n",
       "      <th>Stickstoffmonoxid (NO)[µg/m³]</th>\n",
       "      <th>Stickstoffdioxid (NO2)[µg/m³]</th>\n",
       "    </tr>\n",
       "  </thead>\n",
       "  <tbody>\n",
       "    <tr>\n",
       "      <th>0</th>\n",
       "      <td>2018-01-07 00:30:00</td>\n",
       "      <td>8.9</td>\n",
       "      <td>23.2</td>\n",
       "    </tr>\n",
       "    <tr>\n",
       "      <th>1</th>\n",
       "      <td>2018-01-07 01:00:00</td>\n",
       "      <td>15.2</td>\n",
       "      <td>22.2</td>\n",
       "    </tr>\n",
       "    <tr>\n",
       "      <th>2</th>\n",
       "      <td>2018-01-07 01:30:00</td>\n",
       "      <td>14.9</td>\n",
       "      <td>24.3</td>\n",
       "    </tr>\n",
       "    <tr>\n",
       "      <th>3</th>\n",
       "      <td>2018-01-07 02:00:00</td>\n",
       "      <td>10.8</td>\n",
       "      <td>18.5</td>\n",
       "    </tr>\n",
       "    <tr>\n",
       "      <th>4</th>\n",
       "      <td>2018-01-07 02:30:00</td>\n",
       "      <td>10.6</td>\n",
       "      <td>23.9</td>\n",
       "    </tr>\n",
       "  </tbody>\n",
       "</table>\n",
       "</div>"
      ],
      "text/plain": [
       "           Datum_Zeit  Stickstoffmonoxid (NO)[µg/m³]  \\\n",
       "0 2018-01-07 00:30:00                            8.9   \n",
       "1 2018-01-07 01:00:00                           15.2   \n",
       "2 2018-01-07 01:30:00                           14.9   \n",
       "3 2018-01-07 02:00:00                           10.8   \n",
       "4 2018-01-07 02:30:00                           10.6   \n",
       "\n",
       "   Stickstoffdioxid (NO2)[µg/m³]  \n",
       "0                           23.2  \n",
       "1                           22.2  \n",
       "2                           24.3  \n",
       "3                           18.5  \n",
       "4                           23.9  "
      ]
     },
     "execution_count": 6,
     "metadata": {},
     "output_type": "execute_result"
    }
   ],
   "source": [
    "df_Friedberg.head()"
   ]
  },
  {
   "cell_type": "code",
   "execution_count": 7,
   "metadata": {},
   "outputs": [
    {
     "data": {
      "text/html": [
       "<div>\n",
       "<style scoped>\n",
       "    .dataframe tbody tr th:only-of-type {\n",
       "        vertical-align: middle;\n",
       "    }\n",
       "\n",
       "    .dataframe tbody tr th {\n",
       "        vertical-align: top;\n",
       "    }\n",
       "\n",
       "    .dataframe thead th {\n",
       "        text-align: right;\n",
       "    }\n",
       "</style>\n",
       "<table border=\"1\" class=\"dataframe\">\n",
       "  <thead>\n",
       "    <tr style=\"text-align: right;\">\n",
       "      <th></th>\n",
       "      <th>Datum_Zeit</th>\n",
       "      <th>Stickstoffmonoxid (NO)[µg/m³]</th>\n",
       "      <th>Stickstoffdioxid (NO2)[µg/m³]</th>\n",
       "      <th>Temperatur[°C]</th>\n",
       "      <th>Windgeschwindigkeit[m/s]</th>\n",
       "      <th>Windrichtung[Grad]</th>\n",
       "    </tr>\n",
       "  </thead>\n",
       "  <tbody>\n",
       "    <tr>\n",
       "      <th>0</th>\n",
       "      <td>2018-01-07 00:30:00</td>\n",
       "      <td>2.5</td>\n",
       "      <td>12.8</td>\n",
       "      <td>19.5</td>\n",
       "      <td>2.1</td>\n",
       "      <td>47.0</td>\n",
       "    </tr>\n",
       "    <tr>\n",
       "      <th>1</th>\n",
       "      <td>2018-01-07 01:00:00</td>\n",
       "      <td>0.4</td>\n",
       "      <td>10.2</td>\n",
       "      <td>18.8</td>\n",
       "      <td>1.8</td>\n",
       "      <td>53.0</td>\n",
       "    </tr>\n",
       "    <tr>\n",
       "      <th>2</th>\n",
       "      <td>2018-01-07 01:30:00</td>\n",
       "      <td>0.4</td>\n",
       "      <td>10.0</td>\n",
       "      <td>18.5</td>\n",
       "      <td>1.9</td>\n",
       "      <td>43.0</td>\n",
       "    </tr>\n",
       "    <tr>\n",
       "      <th>3</th>\n",
       "      <td>2018-01-07 02:00:00</td>\n",
       "      <td>1.1</td>\n",
       "      <td>9.6</td>\n",
       "      <td>18.1</td>\n",
       "      <td>1.9</td>\n",
       "      <td>43.0</td>\n",
       "    </tr>\n",
       "    <tr>\n",
       "      <th>4</th>\n",
       "      <td>2018-01-07 02:30:00</td>\n",
       "      <td>0.4</td>\n",
       "      <td>7.8</td>\n",
       "      <td>17.7</td>\n",
       "      <td>1.8</td>\n",
       "      <td>45.0</td>\n",
       "    </tr>\n",
       "  </tbody>\n",
       "</table>\n",
       "</div>"
      ],
      "text/plain": [
       "           Datum_Zeit  Stickstoffmonoxid (NO)[µg/m³]  \\\n",
       "0 2018-01-07 00:30:00                            2.5   \n",
       "1 2018-01-07 01:00:00                            0.4   \n",
       "2 2018-01-07 01:30:00                            0.4   \n",
       "3 2018-01-07 02:00:00                            1.1   \n",
       "4 2018-01-07 02:30:00                            0.4   \n",
       "\n",
       "   Stickstoffdioxid (NO2)[µg/m³]  Temperatur[°C]  Windgeschwindigkeit[m/s]  \\\n",
       "0                           12.8            19.5                       2.1   \n",
       "1                           10.2            18.8                       1.8   \n",
       "2                           10.0            18.5                       1.9   \n",
       "3                            9.6            18.1                       1.9   \n",
       "4                            7.8            17.7                       1.8   \n",
       "\n",
       "   Windrichtung[Grad]  \n",
       "0                47.0  \n",
       "1                53.0  \n",
       "2                43.0  \n",
       "3                43.0  \n",
       "4                45.0  "
      ]
     },
     "execution_count": 7,
     "metadata": {},
     "output_type": "execute_result"
    }
   ],
   "source": [
    "df_Hochst.head()"
   ]
  },
  {
   "cell_type": "code",
   "execution_count": 8,
   "metadata": {},
   "outputs": [
    {
     "data": {
      "text/html": [
       "<div>\n",
       "<style scoped>\n",
       "    .dataframe tbody tr th:only-of-type {\n",
       "        vertical-align: middle;\n",
       "    }\n",
       "\n",
       "    .dataframe tbody tr th {\n",
       "        vertical-align: top;\n",
       "    }\n",
       "\n",
       "    .dataframe thead th {\n",
       "        text-align: right;\n",
       "    }\n",
       "</style>\n",
       "<table border=\"1\" class=\"dataframe\">\n",
       "  <thead>\n",
       "    <tr style=\"text-align: right;\">\n",
       "      <th></th>\n",
       "      <th>Datum_Zeit</th>\n",
       "      <th>Stickstoffmonoxid (NO)[µg/m³]</th>\n",
       "      <th>Stickstoffdioxid (NO2)[µg/m³]</th>\n",
       "      <th>Temperatur[°C]</th>\n",
       "      <th>Windgeschwindigkeit[m/s]</th>\n",
       "      <th>Windrichtung[Grad]</th>\n",
       "    </tr>\n",
       "  </thead>\n",
       "  <tbody>\n",
       "    <tr>\n",
       "      <th>0</th>\n",
       "      <td>2018-01-07 00:30:00</td>\n",
       "      <td>0.4</td>\n",
       "      <td>5.1</td>\n",
       "      <td>17.2</td>\n",
       "      <td>2.0</td>\n",
       "      <td>12.0</td>\n",
       "    </tr>\n",
       "    <tr>\n",
       "      <th>1</th>\n",
       "      <td>2018-01-07 01:00:00</td>\n",
       "      <td>0.4</td>\n",
       "      <td>4.5</td>\n",
       "      <td>16.9</td>\n",
       "      <td>1.8</td>\n",
       "      <td>21.0</td>\n",
       "    </tr>\n",
       "    <tr>\n",
       "      <th>2</th>\n",
       "      <td>2018-01-07 01:30:00</td>\n",
       "      <td>0.4</td>\n",
       "      <td>3.8</td>\n",
       "      <td>16.6</td>\n",
       "      <td>2.3</td>\n",
       "      <td>16.0</td>\n",
       "    </tr>\n",
       "    <tr>\n",
       "      <th>3</th>\n",
       "      <td>2018-01-07 02:00:00</td>\n",
       "      <td>0.4</td>\n",
       "      <td>3.2</td>\n",
       "      <td>16.3</td>\n",
       "      <td>2.4</td>\n",
       "      <td>11.0</td>\n",
       "    </tr>\n",
       "    <tr>\n",
       "      <th>4</th>\n",
       "      <td>2018-01-07 02:30:00</td>\n",
       "      <td>0.4</td>\n",
       "      <td>3.5</td>\n",
       "      <td>15.7</td>\n",
       "      <td>1.8</td>\n",
       "      <td>6.0</td>\n",
       "    </tr>\n",
       "  </tbody>\n",
       "</table>\n",
       "</div>"
      ],
      "text/plain": [
       "           Datum_Zeit  Stickstoffmonoxid (NO)[µg/m³]  \\\n",
       "0 2018-01-07 00:30:00                            0.4   \n",
       "1 2018-01-07 01:00:00                            0.4   \n",
       "2 2018-01-07 01:30:00                            0.4   \n",
       "3 2018-01-07 02:00:00                            0.4   \n",
       "4 2018-01-07 02:30:00                            0.4   \n",
       "\n",
       "   Stickstoffdioxid (NO2)[µg/m³]  Temperatur[°C]  Windgeschwindigkeit[m/s]  \\\n",
       "0                            5.1            17.2                       2.0   \n",
       "1                            4.5            16.9                       1.8   \n",
       "2                            3.8            16.6                       2.3   \n",
       "3                            3.2            16.3                       2.4   \n",
       "4                            3.5            15.7                       1.8   \n",
       "\n",
       "   Windrichtung[Grad]  \n",
       "0                12.0  \n",
       "1                21.0  \n",
       "2                16.0  \n",
       "3                11.0  \n",
       "4                 6.0  "
      ]
     },
     "execution_count": 8,
     "metadata": {},
     "output_type": "execute_result"
    }
   ],
   "source": [
    "df_Ost.head()"
   ]
  },
  {
   "cell_type": "code",
   "execution_count": 9,
   "metadata": {},
   "outputs": [
    {
     "data": {
      "text/plain": [
       "Datum_Zeit                       datetime64[ns]\n",
       "Stickstoffmonoxid (NO)[µg/m³]           float64\n",
       "Stickstoffdioxid (NO2)[µg/m³]           float64\n",
       "Temperatur[°C]                          float64\n",
       "Windgeschwindigkeit[m/s]                float64\n",
       "Windrichtung[Grad]                      float64\n",
       "dtype: object"
      ]
     },
     "execution_count": 9,
     "metadata": {},
     "output_type": "execute_result"
    }
   ],
   "source": [
    "df_Hochst.dtypes"
   ]
  },
  {
   "cell_type": "code",
   "execution_count": 10,
   "metadata": {},
   "outputs": [
    {
     "data": {
      "text/plain": [
       "Datum_Zeit                       datetime64[ns]\n",
       "Stickstoffmonoxid (NO)[µg/m³]           float64\n",
       "Stickstoffdioxid (NO2)[µg/m³]           float64\n",
       "Temperatur[°C]                          float64\n",
       "Windgeschwindigkeit[m/s]                float64\n",
       "Windrichtung[Grad]                      float64\n",
       "dtype: object"
      ]
     },
     "execution_count": 10,
     "metadata": {},
     "output_type": "execute_result"
    }
   ],
   "source": [
    "df_Ost.dtypes"
   ]
  },
  {
   "cell_type": "code",
   "execution_count": 11,
   "metadata": {},
   "outputs": [
    {
     "name": "stdout",
     "output_type": "stream",
     "text": [
      "Datum_Zeit                       2018-12-09 23:30:00\n",
      "Stickstoffmonoxid (NO)[µg/m³]                  124.3\n",
      "Stickstoffdioxid (NO2)[µg/m³]                  122.1\n",
      "Temperatur[°C]                                  36.7\n",
      "Windgeschwindigkeit[m/s]                         5.9\n",
      "Windrichtung[Grad]                               360\n",
      "dtype: object\n"
     ]
    },
    {
     "data": {
      "text/plain": [
       "<Figure size 500x500 with 1 Axes>"
      ]
     },
     "metadata": {},
     "output_type": "display_data"
    }
   ],
   "source": [
    "import matplotlib.pyplot as plt\n",
    "print(df_Ost.max())\n",
    "df_Ost.groupby(df_Ost.Datum_Zeit.dt.date)['Stickstoffmonoxid (NO)[µg/m³]'].mean().plot(figsize = (5,5))\n",
    "plt.show()"
   ]
  },
  {
   "cell_type": "code",
   "execution_count": 12,
   "metadata": {},
   "outputs": [
    {
     "data": {
      "text/html": [
       "<div>\n",
       "<style scoped>\n",
       "    .dataframe tbody tr th:only-of-type {\n",
       "        vertical-align: middle;\n",
       "    }\n",
       "\n",
       "    .dataframe tbody tr th {\n",
       "        vertical-align: top;\n",
       "    }\n",
       "\n",
       "    .dataframe thead th {\n",
       "        text-align: right;\n",
       "    }\n",
       "</style>\n",
       "<table border=\"1\" class=\"dataframe\">\n",
       "  <thead>\n",
       "    <tr style=\"text-align: right;\">\n",
       "      <th></th>\n",
       "      <th>Stickstoffmonoxid (NO)[µg/m³]</th>\n",
       "      <th>Stickstoffdioxid (NO2)[µg/m³]</th>\n",
       "      <th>Temperatur[°C]</th>\n",
       "      <th>Windgeschwindigkeit[m/s]</th>\n",
       "      <th>Windrichtung[Grad]</th>\n",
       "    </tr>\n",
       "  </thead>\n",
       "  <tbody>\n",
       "    <tr>\n",
       "      <th>Stickstoffmonoxid (NO)[µg/m³]</th>\n",
       "      <td>1.000000</td>\n",
       "      <td>0.694633</td>\n",
       "      <td>-0.326574</td>\n",
       "      <td>-0.273811</td>\n",
       "      <td>-0.137252</td>\n",
       "    </tr>\n",
       "    <tr>\n",
       "      <th>Stickstoffdioxid (NO2)[µg/m³]</th>\n",
       "      <td>0.694633</td>\n",
       "      <td>1.000000</td>\n",
       "      <td>-0.011280</td>\n",
       "      <td>-0.570226</td>\n",
       "      <td>-0.173045</td>\n",
       "    </tr>\n",
       "    <tr>\n",
       "      <th>Temperatur[°C]</th>\n",
       "      <td>-0.326574</td>\n",
       "      <td>-0.011280</td>\n",
       "      <td>1.000000</td>\n",
       "      <td>-0.063659</td>\n",
       "      <td>-0.222993</td>\n",
       "    </tr>\n",
       "    <tr>\n",
       "      <th>Windgeschwindigkeit[m/s]</th>\n",
       "      <td>-0.273811</td>\n",
       "      <td>-0.570226</td>\n",
       "      <td>-0.063659</td>\n",
       "      <td>1.000000</td>\n",
       "      <td>0.187128</td>\n",
       "    </tr>\n",
       "    <tr>\n",
       "      <th>Windrichtung[Grad]</th>\n",
       "      <td>-0.137252</td>\n",
       "      <td>-0.173045</td>\n",
       "      <td>-0.222993</td>\n",
       "      <td>0.187128</td>\n",
       "      <td>1.000000</td>\n",
       "    </tr>\n",
       "  </tbody>\n",
       "</table>\n",
       "</div>"
      ],
      "text/plain": [
       "                               Stickstoffmonoxid (NO)[µg/m³]  \\\n",
       "Stickstoffmonoxid (NO)[µg/m³]                       1.000000   \n",
       "Stickstoffdioxid (NO2)[µg/m³]                       0.694633   \n",
       "Temperatur[°C]                                     -0.326574   \n",
       "Windgeschwindigkeit[m/s]                           -0.273811   \n",
       "Windrichtung[Grad]                                 -0.137252   \n",
       "\n",
       "                               Stickstoffdioxid (NO2)[µg/m³]  Temperatur[°C]  \\\n",
       "Stickstoffmonoxid (NO)[µg/m³]                       0.694633       -0.326574   \n",
       "Stickstoffdioxid (NO2)[µg/m³]                       1.000000       -0.011280   \n",
       "Temperatur[°C]                                     -0.011280        1.000000   \n",
       "Windgeschwindigkeit[m/s]                           -0.570226       -0.063659   \n",
       "Windrichtung[Grad]                                 -0.173045       -0.222993   \n",
       "\n",
       "                               Windgeschwindigkeit[m/s]  Windrichtung[Grad]  \n",
       "Stickstoffmonoxid (NO)[µg/m³]                 -0.273811           -0.137252  \n",
       "Stickstoffdioxid (NO2)[µg/m³]                 -0.570226           -0.173045  \n",
       "Temperatur[°C]                                -0.063659           -0.222993  \n",
       "Windgeschwindigkeit[m/s]                       1.000000            0.187128  \n",
       "Windrichtung[Grad]                             0.187128            1.000000  "
      ]
     },
     "execution_count": 12,
     "metadata": {},
     "output_type": "execute_result"
    }
   ],
   "source": [
    "df_Ost.groupby(df_Ost.Datum_Zeit.dt.date).mean().corr()"
   ]
  },
  {
   "cell_type": "code",
   "execution_count": 13,
   "metadata": {},
   "outputs": [
    {
     "data": {
      "text/html": [
       "<div>\n",
       "<style scoped>\n",
       "    .dataframe tbody tr th:only-of-type {\n",
       "        vertical-align: middle;\n",
       "    }\n",
       "\n",
       "    .dataframe tbody tr th {\n",
       "        vertical-align: top;\n",
       "    }\n",
       "\n",
       "    .dataframe thead th {\n",
       "        text-align: right;\n",
       "    }\n",
       "</style>\n",
       "<table border=\"1\" class=\"dataframe\">\n",
       "  <thead>\n",
       "    <tr style=\"text-align: right;\">\n",
       "      <th></th>\n",
       "      <th>Stickstoffmonoxid (NO)[µg/m³]</th>\n",
       "      <th>Stickstoffdioxid (NO2)[µg/m³]</th>\n",
       "      <th>Temperatur[°C]</th>\n",
       "      <th>Windgeschwindigkeit[m/s]</th>\n",
       "      <th>Windrichtung[Grad]</th>\n",
       "    </tr>\n",
       "  </thead>\n",
       "  <tbody>\n",
       "    <tr>\n",
       "      <th>Stickstoffmonoxid (NO)[µg/m³]</th>\n",
       "      <td>1.000000</td>\n",
       "      <td>0.706160</td>\n",
       "      <td>-0.487900</td>\n",
       "      <td>-0.240849</td>\n",
       "      <td>0.219398</td>\n",
       "    </tr>\n",
       "    <tr>\n",
       "      <th>Stickstoffdioxid (NO2)[µg/m³]</th>\n",
       "      <td>0.706160</td>\n",
       "      <td>1.000000</td>\n",
       "      <td>-0.007340</td>\n",
       "      <td>-0.593694</td>\n",
       "      <td>0.238976</td>\n",
       "    </tr>\n",
       "    <tr>\n",
       "      <th>Temperatur[°C]</th>\n",
       "      <td>-0.487900</td>\n",
       "      <td>-0.007340</td>\n",
       "      <td>1.000000</td>\n",
       "      <td>-0.131732</td>\n",
       "      <td>-0.188799</td>\n",
       "    </tr>\n",
       "    <tr>\n",
       "      <th>Windgeschwindigkeit[m/s]</th>\n",
       "      <td>-0.240849</td>\n",
       "      <td>-0.593694</td>\n",
       "      <td>-0.131732</td>\n",
       "      <td>1.000000</td>\n",
       "      <td>0.161832</td>\n",
       "    </tr>\n",
       "    <tr>\n",
       "      <th>Windrichtung[Grad]</th>\n",
       "      <td>0.219398</td>\n",
       "      <td>0.238976</td>\n",
       "      <td>-0.188799</td>\n",
       "      <td>0.161832</td>\n",
       "      <td>1.000000</td>\n",
       "    </tr>\n",
       "  </tbody>\n",
       "</table>\n",
       "</div>"
      ],
      "text/plain": [
       "                               Stickstoffmonoxid (NO)[µg/m³]  \\\n",
       "Stickstoffmonoxid (NO)[µg/m³]                       1.000000   \n",
       "Stickstoffdioxid (NO2)[µg/m³]                       0.706160   \n",
       "Temperatur[°C]                                     -0.487900   \n",
       "Windgeschwindigkeit[m/s]                           -0.240849   \n",
       "Windrichtung[Grad]                                  0.219398   \n",
       "\n",
       "                               Stickstoffdioxid (NO2)[µg/m³]  Temperatur[°C]  \\\n",
       "Stickstoffmonoxid (NO)[µg/m³]                       0.706160       -0.487900   \n",
       "Stickstoffdioxid (NO2)[µg/m³]                       1.000000       -0.007340   \n",
       "Temperatur[°C]                                     -0.007340        1.000000   \n",
       "Windgeschwindigkeit[m/s]                           -0.593694       -0.131732   \n",
       "Windrichtung[Grad]                                  0.238976       -0.188799   \n",
       "\n",
       "                               Windgeschwindigkeit[m/s]  Windrichtung[Grad]  \n",
       "Stickstoffmonoxid (NO)[µg/m³]                 -0.240849            0.219398  \n",
       "Stickstoffdioxid (NO2)[µg/m³]                 -0.593694            0.238976  \n",
       "Temperatur[°C]                                -0.131732           -0.188799  \n",
       "Windgeschwindigkeit[m/s]                       1.000000            0.161832  \n",
       "Windrichtung[Grad]                             0.161832            1.000000  "
      ]
     },
     "execution_count": 13,
     "metadata": {},
     "output_type": "execute_result"
    }
   ],
   "source": [
    "df_Hochst.groupby(df_Hochst.Datum_Zeit.dt.date).mean().corr()"
   ]
  },
  {
   "cell_type": "code",
   "execution_count": 14,
   "metadata": {
    "scrolled": true
   },
   "outputs": [
    {
     "data": {
      "text/html": [
       "<div>\n",
       "<style scoped>\n",
       "    .dataframe tbody tr th:only-of-type {\n",
       "        vertical-align: middle;\n",
       "    }\n",
       "\n",
       "    .dataframe tbody tr th {\n",
       "        vertical-align: top;\n",
       "    }\n",
       "\n",
       "    .dataframe thead th {\n",
       "        text-align: right;\n",
       "    }\n",
       "</style>\n",
       "<table border=\"1\" class=\"dataframe\">\n",
       "  <thead>\n",
       "    <tr style=\"text-align: right;\">\n",
       "      <th></th>\n",
       "      <th>Stickstoffmonoxid (NO)[µg/m³]</th>\n",
       "      <th>Stickstoffdioxid (NO2)[µg/m³]</th>\n",
       "    </tr>\n",
       "  </thead>\n",
       "  <tbody>\n",
       "    <tr>\n",
       "      <th>Stickstoffmonoxid (NO)[µg/m³]</th>\n",
       "      <td>1.000000</td>\n",
       "      <td>0.702227</td>\n",
       "    </tr>\n",
       "    <tr>\n",
       "      <th>Stickstoffdioxid (NO2)[µg/m³]</th>\n",
       "      <td>0.702227</td>\n",
       "      <td>1.000000</td>\n",
       "    </tr>\n",
       "  </tbody>\n",
       "</table>\n",
       "</div>"
      ],
      "text/plain": [
       "                               Stickstoffmonoxid (NO)[µg/m³]  \\\n",
       "Stickstoffmonoxid (NO)[µg/m³]                       1.000000   \n",
       "Stickstoffdioxid (NO2)[µg/m³]                       0.702227   \n",
       "\n",
       "                               Stickstoffdioxid (NO2)[µg/m³]  \n",
       "Stickstoffmonoxid (NO)[µg/m³]                       0.702227  \n",
       "Stickstoffdioxid (NO2)[µg/m³]                       1.000000  "
      ]
     },
     "execution_count": 14,
     "metadata": {},
     "output_type": "execute_result"
    }
   ],
   "source": [
    "df_Friedberg.groupby(df_Friedberg.Datum_Zeit.dt.date).mean().corr()"
   ]
  },
  {
   "cell_type": "markdown",
   "metadata": {},
   "source": [
    "# Introducing weather data"
   ]
  },
  {
   "cell_type": "code",
   "execution_count": 15,
   "metadata": {},
   "outputs": [],
   "source": [
    "x_O = df_Ost.groupby(df_Ost.Datum_Zeit.dt.date)['Windrichtung[Grad]'].mean().map(lambda x: (np.cos(x), np.sin(x)))\n",
    "x_H = df_Hochst.groupby(df_Hochst.Datum_Zeit.dt.date)['Windrichtung[Grad]'].mean().map(lambda x: (np.cos(x), np.sin(x)))"
   ]
  },
  {
   "cell_type": "code",
   "execution_count": 16,
   "metadata": {},
   "outputs": [],
   "source": [
    "def ArrowPlot_O(i):\n",
    "    plt.figure(figsize = (5,5))\n",
    "    plt.arrow(0,0, dx = x_O[i][0], dy = x_O[i][1], color = 'red')\n",
    "    plt.arrow(0,0, dx = x_H[i][0], dy = x_H[i][1], color = 'green')\n",
    "    plt.xlabel('Value 1')\n",
    "    plt.ylabel('Value 2')\n",
    "    plt.xlim([-1,1])\n",
    "    plt.ylim([-1,1])\n",
    "    plt.legend(('Wind vector 1', 'Wind vector 2'))"
   ]
  },
  {
   "cell_type": "code",
   "execution_count": 17,
   "metadata": {},
   "outputs": [
    {
     "data": {
      "application/vnd.jupyter.widget-view+json": {
       "model_id": "1151bf6d97c343e5a364f7c95b2ac380",
       "version_major": 2,
       "version_minor": 0
      },
      "text/plain": [
       "Play(value=0, description='Press play', interval=500, max=91)"
      ]
     },
     "metadata": {},
     "output_type": "display_data"
    },
    {
     "data": {
      "application/vnd.jupyter.widget-view+json": {
       "model_id": "407a8a9b936942a4bdf4b5e63bcb4cea",
       "version_major": 2,
       "version_minor": 0
      },
      "text/plain": [
       "IntSlider(value=0, max=91)"
      ]
     },
     "metadata": {},
     "output_type": "display_data"
    },
    {
     "data": {
      "application/vnd.jupyter.widget-view+json": {
       "model_id": "15a65ed05ef54526b174cfe022ab94ab",
       "version_major": 2,
       "version_minor": 0
      },
      "text/plain": [
       "interactive(children=(Play(value=0, description='Press play', interval=500, max=91), Output()), _dom_classes=(…"
      ]
     },
     "metadata": {},
     "output_type": "display_data"
    }
   ],
   "source": [
    "import ipywidgets as wg\n",
    "from IPython.display import display\n",
    "\n",
    "play = wg.Play(\n",
    "    interval = 500,\n",
    "    min = 0, \n",
    "    max = len(x_H) - 1,\n",
    "    step = 1,\n",
    "    value = 0,\n",
    "    description=\"Press play\",\n",
    "    disabled=False\n",
    ")\n",
    "\n",
    "c_slider = wg.IntSlider(min = 0, \n",
    "    max = len(x_H) - 1,\n",
    "    step = 1,\n",
    "    value = 0,\n",
    "    )\n",
    "\n",
    "wg.jslink((play, 'value'), (c_slider, 'value'))\n",
    "\n",
    "\n",
    "display(play, c_slider)\n",
    "# wg.interact(ArrowPlot_H, i = play)\n",
    "wg.interact(ArrowPlot_O, i = play)\n",
    "plt.show()"
   ]
  },
  {
   "cell_type": "code",
   "execution_count": 18,
   "metadata": {},
   "outputs": [
    {
     "data": {
      "text/plain": [
       "(4324, 6)"
      ]
     },
     "execution_count": 18,
     "metadata": {},
     "output_type": "execute_result"
    }
   ],
   "source": [
    "df_Ost.shape"
   ]
  },
  {
   "cell_type": "code",
   "execution_count": 19,
   "metadata": {},
   "outputs": [
    {
     "data": {
      "text/plain": [
       "(4324, 3)"
      ]
     },
     "execution_count": 19,
     "metadata": {},
     "output_type": "execute_result"
    }
   ],
   "source": [
    "df_Friedberg.shape"
   ]
  },
  {
   "cell_type": "code",
   "execution_count": 20,
   "metadata": {},
   "outputs": [
    {
     "data": {
      "text/plain": [
       "(4324, 6)"
      ]
     },
     "execution_count": 20,
     "metadata": {},
     "output_type": "execute_result"
    }
   ],
   "source": [
    "df_Hochst.shape"
   ]
  },
  {
   "cell_type": "code",
   "execution_count": 21,
   "metadata": {},
   "outputs": [
    {
     "data": {
      "text/plain": [
       "(4324, 3)"
      ]
     },
     "execution_count": 21,
     "metadata": {},
     "output_type": "execute_result"
    }
   ],
   "source": [
    "df_Schwan.shape"
   ]
  },
  {
   "cell_type": "code",
   "execution_count": 22,
   "metadata": {},
   "outputs": [
    {
     "data": {
      "image/png": "[encoded data removed]",
      "text/plain": [
       "<Figure size 432x288 with 1 Axes>"
      ]
     },
     "metadata": {},
     "output_type": "display_data"
    }
   ],
   "source": [
    "for i in range(5):\n",
    "    plt.plot(np.arange(0,48), df_Ost.iloc[i*48:i*48 + 48, 1], label='0{}.01.2018'.format(str(i + 1)))\n",
    "plt.legend()\n",
    "plt.show()"
   ]
  },
  {
   "cell_type": "code",
   "execution_count": 23,
   "metadata": {},
   "outputs": [
    {
     "data": {
      "text/html": [
       "<div>\n",
       "<style scoped>\n",
       "    .dataframe tbody tr th:only-of-type {\n",
       "        vertical-align: middle;\n",
       "    }\n",
       "\n",
       "    .dataframe tbody tr th {\n",
       "        vertical-align: top;\n",
       "    }\n",
       "\n",
       "    .dataframe thead th {\n",
       "        text-align: right;\n",
       "    }\n",
       "</style>\n",
       "<table border=\"1\" class=\"dataframe\">\n",
       "  <thead>\n",
       "    <tr style=\"text-align: right;\">\n",
       "      <th></th>\n",
       "      <th>Datum_Zeit</th>\n",
       "      <th>Stickstoffmonoxid (NO)[µg/m³]</th>\n",
       "      <th>Stickstoffdioxid (NO2)[µg/m³]</th>\n",
       "      <th>Time</th>\n",
       "      <th>Time_rel_cosinus</th>\n",
       "      <th>Time_rel_sinus</th>\n",
       "    </tr>\n",
       "  </thead>\n",
       "  <tbody>\n",
       "    <tr>\n",
       "      <th>0</th>\n",
       "      <td>2018-01-07 00:30:00</td>\n",
       "      <td>8.9</td>\n",
       "      <td>23.2</td>\n",
       "      <td>30</td>\n",
       "      <td>0.991445</td>\n",
       "      <td>0.130526</td>\n",
       "    </tr>\n",
       "    <tr>\n",
       "      <th>1</th>\n",
       "      <td>2018-01-07 01:00:00</td>\n",
       "      <td>15.2</td>\n",
       "      <td>22.2</td>\n",
       "      <td>60</td>\n",
       "      <td>0.965926</td>\n",
       "      <td>0.258819</td>\n",
       "    </tr>\n",
       "    <tr>\n",
       "      <th>2</th>\n",
       "      <td>2018-01-07 01:30:00</td>\n",
       "      <td>14.9</td>\n",
       "      <td>24.3</td>\n",
       "      <td>90</td>\n",
       "      <td>0.923880</td>\n",
       "      <td>0.382683</td>\n",
       "    </tr>\n",
       "    <tr>\n",
       "      <th>3</th>\n",
       "      <td>2018-01-07 02:00:00</td>\n",
       "      <td>10.8</td>\n",
       "      <td>18.5</td>\n",
       "      <td>120</td>\n",
       "      <td>0.866025</td>\n",
       "      <td>0.500000</td>\n",
       "    </tr>\n",
       "    <tr>\n",
       "      <th>4</th>\n",
       "      <td>2018-01-07 02:30:00</td>\n",
       "      <td>10.6</td>\n",
       "      <td>23.9</td>\n",
       "      <td>150</td>\n",
       "      <td>0.793353</td>\n",
       "      <td>0.608761</td>\n",
       "    </tr>\n",
       "  </tbody>\n",
       "</table>\n",
       "</div>"
      ],
      "text/plain": [
       "           Datum_Zeit  Stickstoffmonoxid (NO)[µg/m³]  \\\n",
       "0 2018-01-07 00:30:00                            8.9   \n",
       "1 2018-01-07 01:00:00                           15.2   \n",
       "2 2018-01-07 01:30:00                           14.9   \n",
       "3 2018-01-07 02:00:00                           10.8   \n",
       "4 2018-01-07 02:30:00                           10.6   \n",
       "\n",
       "   Stickstoffdioxid (NO2)[µg/m³]  Time  Time_rel_cosinus  Time_rel_sinus  \n",
       "0                           23.2    30          0.991445        0.130526  \n",
       "1                           22.2    60          0.965926        0.258819  \n",
       "2                           24.3    90          0.923880        0.382683  \n",
       "3                           18.5   120          0.866025        0.500000  \n",
       "4                           23.9   150          0.793353        0.608761  "
      ]
     },
     "execution_count": 23,
     "metadata": {},
     "output_type": "execute_result"
    }
   ],
   "source": [
    "df_Friedberg['Time'] = df_Friedberg.Datum_Zeit.dt.time\n",
    "df_Friedberg['Time'] = df_Friedberg['Time'].apply(lambda x: x.hour*60 + x.minute)\n",
    "df_Friedberg['Time_rel_cosinus'] = df_Friedberg['Time'].apply(lambda x: np.cos(2*np.pi/(24*60)*x))\n",
    "df_Friedberg['Time_rel_sinus'] = df_Friedberg['Time'].apply(lambda x: np.sin(2*np.pi/(24*60)*x))\n",
    "df_Friedberg.head()"
   ]
  },
  {
   "cell_type": "code",
   "execution_count": 24,
   "metadata": {},
   "outputs": [
    {
     "data": {
      "text/plain": [
       "['Windgeschwindigkeit[m/s]', 'Windrichtung[Grad]']"
      ]
     },
     "execution_count": 24,
     "metadata": {},
     "output_type": "execute_result"
    }
   ],
   "source": [
    "Friedberg_missing_cols = list(set(df_Ost.columns) - set(df_Friedberg.columns))\n",
    "Friedberg_wind = [item for item in Friedberg_missing_cols if 'Wind' in item]\n",
    "Friedberg_wind"
   ]
  },
  {
   "cell_type": "code",
   "execution_count": 25,
   "metadata": {},
   "outputs": [],
   "source": [
    "df_Friedberg = df_Friedberg.join(pd.DataFrame(df_Ost.loc[:,Friedberg_wind].values, columns = ['Wind_Ost_d', 'Wind_Ost_v']))\n",
    "df_Friedberg = df_Friedberg.join(pd.DataFrame(df_Schwan.loc[:,Friedberg_wind].values, columns = ['Wind_Schwan_d', 'Wind_Schwan_v']))\n",
    "df_Friedberg = df_Friedberg.join(pd.DataFrame(df_Hochst.loc[:,Friedberg_wind].values, columns = ['Wind_Hochst_d', 'Wind_Hochst_v']))"
   ]
  },
  {
   "cell_type": "code",
   "execution_count": 26,
   "metadata": {},
   "outputs": [
    {
     "data": {
      "text/html": [
       "<div>\n",
       "<style scoped>\n",
       "    .dataframe tbody tr th:only-of-type {\n",
       "        vertical-align: middle;\n",
       "    }\n",
       "\n",
       "    .dataframe tbody tr th {\n",
       "        vertical-align: top;\n",
       "    }\n",
       "\n",
       "    .dataframe thead th {\n",
       "        text-align: right;\n",
       "    }\n",
       "</style>\n",
       "<table border=\"1\" class=\"dataframe\">\n",
       "  <thead>\n",
       "    <tr style=\"text-align: right;\">\n",
       "      <th></th>\n",
       "      <th>Datum_Zeit</th>\n",
       "      <th>Stickstoffmonoxid (NO)[µg/m³]</th>\n",
       "      <th>Stickstoffdioxid (NO2)[µg/m³]</th>\n",
       "      <th>Time</th>\n",
       "      <th>Time_rel_cosinus</th>\n",
       "      <th>Time_rel_sinus</th>\n",
       "      <th>Wind_Ost_d</th>\n",
       "      <th>Wind_Ost_v</th>\n",
       "      <th>Wind_Schwan_d</th>\n",
       "      <th>Wind_Schwan_v</th>\n",
       "      <th>Wind_Hochst_d</th>\n",
       "      <th>Wind_Hochst_v</th>\n",
       "    </tr>\n",
       "  </thead>\n",
       "  <tbody>\n",
       "    <tr>\n",
       "      <th>0</th>\n",
       "      <td>2018-01-07 00:30:00</td>\n",
       "      <td>8.9</td>\n",
       "      <td>23.2</td>\n",
       "      <td>30</td>\n",
       "      <td>0.991445</td>\n",
       "      <td>0.130526</td>\n",
       "      <td>2.0</td>\n",
       "      <td>12.0</td>\n",
       "      <td>1.0</td>\n",
       "      <td>15.0</td>\n",
       "      <td>2.1</td>\n",
       "      <td>47.0</td>\n",
       "    </tr>\n",
       "    <tr>\n",
       "      <th>1</th>\n",
       "      <td>2018-01-07 01:00:00</td>\n",
       "      <td>15.2</td>\n",
       "      <td>22.2</td>\n",
       "      <td>60</td>\n",
       "      <td>0.965926</td>\n",
       "      <td>0.258819</td>\n",
       "      <td>1.8</td>\n",
       "      <td>21.0</td>\n",
       "      <td>0.7</td>\n",
       "      <td>19.0</td>\n",
       "      <td>1.8</td>\n",
       "      <td>53.0</td>\n",
       "    </tr>\n",
       "    <tr>\n",
       "      <th>2</th>\n",
       "      <td>2018-01-07 01:30:00</td>\n",
       "      <td>14.9</td>\n",
       "      <td>24.3</td>\n",
       "      <td>90</td>\n",
       "      <td>0.923880</td>\n",
       "      <td>0.382683</td>\n",
       "      <td>2.3</td>\n",
       "      <td>16.0</td>\n",
       "      <td>1.0</td>\n",
       "      <td>14.0</td>\n",
       "      <td>1.9</td>\n",
       "      <td>43.0</td>\n",
       "    </tr>\n",
       "    <tr>\n",
       "      <th>3</th>\n",
       "      <td>2018-01-07 02:00:00</td>\n",
       "      <td>10.8</td>\n",
       "      <td>18.5</td>\n",
       "      <td>120</td>\n",
       "      <td>0.866025</td>\n",
       "      <td>0.500000</td>\n",
       "      <td>2.4</td>\n",
       "      <td>11.0</td>\n",
       "      <td>1.0</td>\n",
       "      <td>11.0</td>\n",
       "      <td>1.9</td>\n",
       "      <td>43.0</td>\n",
       "    </tr>\n",
       "    <tr>\n",
       "      <th>4</th>\n",
       "      <td>2018-01-07 02:30:00</td>\n",
       "      <td>10.6</td>\n",
       "      <td>23.9</td>\n",
       "      <td>150</td>\n",
       "      <td>0.793353</td>\n",
       "      <td>0.608761</td>\n",
       "      <td>1.8</td>\n",
       "      <td>6.0</td>\n",
       "      <td>1.2</td>\n",
       "      <td>18.0</td>\n",
       "      <td>1.8</td>\n",
       "      <td>45.0</td>\n",
       "    </tr>\n",
       "  </tbody>\n",
       "</table>\n",
       "</div>"
      ],
      "text/plain": [
       "           Datum_Zeit  Stickstoffmonoxid (NO)[µg/m³]  \\\n",
       "0 2018-01-07 00:30:00                            8.9   \n",
       "1 2018-01-07 01:00:00                           15.2   \n",
       "2 2018-01-07 01:30:00                           14.9   \n",
       "3 2018-01-07 02:00:00                           10.8   \n",
       "4 2018-01-07 02:30:00                           10.6   \n",
       "\n",
       "   Stickstoffdioxid (NO2)[µg/m³]  Time  Time_rel_cosinus  Time_rel_sinus  \\\n",
       "0                           23.2    30          0.991445        0.130526   \n",
       "1                           22.2    60          0.965926        0.258819   \n",
       "2                           24.3    90          0.923880        0.382683   \n",
       "3                           18.5   120          0.866025        0.500000   \n",
       "4                           23.9   150          0.793353        0.608761   \n",
       "\n",
       "   Wind_Ost_d  Wind_Ost_v  Wind_Schwan_d  Wind_Schwan_v  Wind_Hochst_d  \\\n",
       "0         2.0        12.0            1.0           15.0            2.1   \n",
       "1         1.8        21.0            0.7           19.0            1.8   \n",
       "2         2.3        16.0            1.0           14.0            1.9   \n",
       "3         2.4        11.0            1.0           11.0            1.9   \n",
       "4         1.8         6.0            1.2           18.0            1.8   \n",
       "\n",
       "   Wind_Hochst_v  \n",
       "0           47.0  \n",
       "1           53.0  \n",
       "2           43.0  \n",
       "3           43.0  \n",
       "4           45.0  "
      ]
     },
     "execution_count": 26,
     "metadata": {},
     "output_type": "execute_result"
    }
   ],
   "source": [
    "df_Friedberg.head()"
   ]
  },
  {
   "cell_type": "code",
   "execution_count": 27,
   "metadata": {
    "scrolled": true
   },
   "outputs": [
    {
     "data": {
      "text/plain": [
       "Datum_Zeit                       0\n",
       "Stickstoffmonoxid (NO)[µg/m³]    0\n",
       "Stickstoffdioxid (NO2)[µg/m³]    0\n",
       "Time                             0\n",
       "Time_rel_cosinus                 0\n",
       "Time_rel_sinus                   0\n",
       "Wind_Ost_d                       0\n",
       "Wind_Ost_v                       0\n",
       "Wind_Schwan_d                    0\n",
       "Wind_Schwan_v                    0\n",
       "Wind_Hochst_d                    0\n",
       "Wind_Hochst_v                    0\n",
       "dtype: int64"
      ]
     },
     "execution_count": 27,
     "metadata": {},
     "output_type": "execute_result"
    }
   ],
   "source": [
    "df_Friedberg.fillna(method ='bfill', inplace=True)\n",
    "df_Friedberg.isna().sum()\n",
    "df_Friedberg.fillna(method ='ffill', inplace=True)\n",
    "df_Friedberg.isna().sum()"
   ]
  },
  {
   "cell_type": "code",
   "execution_count": 28,
   "metadata": {},
   "outputs": [],
   "source": [
    "df_Friedberg.to_csv('Target_And_Wind_Dataframe.csv')"
   ]
  },
  {
   "cell_type": "markdown",
   "metadata": {},
   "source": [
    "# Neuer Kram"
   ]
  },
  {
   "cell_type": "code",
   "execution_count": 29,
   "metadata": {},
   "outputs": [],
   "source": [
    "from sklearn.ensemble import RandomForestRegressor\n",
    "from sklearn.model_selection import train_test_split\n",
    "from sklearn.metrics import mean_squared_error"
   ]
  },
  {
   "cell_type": "code",
   "execution_count": 30,
   "metadata": {},
   "outputs": [],
   "source": [
    "data_col = list(df_Friedberg.columns)[3:]\n",
    "label_col = list(df_Friedberg.columns)[1:3]"
   ]
  },
  {
   "cell_type": "code",
   "execution_count": 31,
   "metadata": {},
   "outputs": [],
   "source": [
    "train_data, test_data, train_label, test_label = train_test_split(df_Friedberg[data_col], df_Friedberg[label_col])"
   ]
  },
  {
   "cell_type": "code",
   "execution_count": 32,
   "metadata": {},
   "outputs": [
    {
     "name": "stdout",
     "output_type": "stream",
     "text": [
      "RMSE on training: 105.29834043368415\n"
     ]
    }
   ],
   "source": [
    "RFR = RandomForestRegressor()\n",
    "RFR.fit(train_data, train_label)\n",
    "print('RMSE on training: {}'.format(mean_squared_error(RFR.predict(train_data), train_label)))"
   ]
  },
  {
   "cell_type": "code",
   "execution_count": 33,
   "metadata": {},
   "outputs": [
    {
     "name": "stdout",
     "output_type": "stream",
     "text": [
      "RMSE on training: 562.7498934688566\n"
     ]
    }
   ],
   "source": [
    "print('RMSE on training: {}'.format(mean_squared_error(RFR.predict(test_data), test_label)))"
   ]
  },
  {
   "cell_type": "code",
   "execution_count": 43,
   "metadata": {},
   "outputs": [
    {
     "data": {
      "image/png": "[encoded data removed]",
      "text/plain": [
       "<Figure size 432x288 with 1 Axes>"
      ]
     },
     "metadata": {},
     "output_type": "display_data"
    }
   ],
   "source": [
    "autocorr = []\n",
    "for i in range(1,15*24):\n",
    "    autocorr.append(df_Friedberg[label_col[0]].autocorr(lag = i))\n",
    "    \n",
    "plt.plot(np.arange(1,15*24),autocorr, label = '$NO$ in $ \\mu g/ m^3$')\n",
    "plt.xlabel('Time lag')\n",
    "plt.ylabel('Autocorrelation')\n",
    "plt.legend()\n",
    "plt.show()"
   ]
  },
  {
   "cell_type": "code",
   "execution_count": 40,
   "metadata": {},
   "outputs": [
    {
     "data": {
      "image/png": "[encoded data removed]",
      "text/plain": [
       "<Figure size 432x288 with 1 Axes>"
      ]
     },
     "metadata": {},
     "output_type": "display_data"
    }
   ],
   "source": [
    "autocorr = []\n",
    "for i in range(1,15*24):\n",
    "    autocorr.append(df_Friedberg[label_col[1]].autocorr(lag = i))\n",
    "    \n",
    "plt.plot(np.arange(1,15*24),autocorr, label = '$NO_2$ in $ \\mu g/ m^3$')\n",
    "plt.xlabel('Time lag')\n",
    "plt.ylabel('Autocorrelation')\n",
    "plt.legend()\n",
    "plt.show()"
   ]
  }
 ],
 "metadata": {
  "kernelspec": {
   "display_name": "Python 3",
   "language": "python",
   "name": "python3"
  },
  "language_info": {
   "codemirror_mode": {
    "name": "ipython",
    "version": 3
   },
   "file_extension": ".py",
   "mimetype": "text/x-python",
   "name": "python",
   "nbconvert_exporter": "python",
   "pygments_lexer": "ipython3",
   "version": "3.6.5"
  }
 },
 "nbformat": 4,
 "nbformat_minor": 2
}
