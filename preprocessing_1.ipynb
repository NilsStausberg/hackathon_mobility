{
 "cells": [
  {
   "cell_type": "markdown",
   "metadata": {},
   "source": [
    "# Preprocessing of data"
   ]
  },
  {
   "cell_type": "code",
   "execution_count": 29,
   "metadata": {},
   "outputs": [],
   "source": [
    "import pandas as pd\n",
    "import matplotlib.pyplot as plt\n",
    "import xml.etree.ElementTree as ET\n",
    "\n",
    "pathDynamicData = \"Mobility/dynamische\\ Verkehrsdaten/FFM_DZG_180701\""
   ]
  },
  {
   "cell_type": "markdown",
   "metadata": {},
   "source": [
    "## Dynamic countrates\n",
    "As a first step, preprocess the dynamic data by loading an additional xml-file to identify the location corresponding to the coles. Further a new data frame is created, containing the latitude, longitude for each cole. "
   ]
  },
  {
   "cell_type": "code",
   "execution_count": 43,
   "metadata": {
    "scrolled": false
   },
   "outputs": [],
   "source": [
    "def prepareDynData(pathAndFilename,\n",
    "                   pathToXML=\"./Mobility/dynamische Verkehrsdaten/Statische Detektordaten.xml\"):\n",
    "    \"\"\"\n",
    "    Read and preprocess data from dynamic countrates.\n",
    "        Input: \n",
    "            pathAndFilename - Path to file containing the data\n",
    "            pathToXML - Path to xml file\n",
    "        Returns: \n",
    "            df - data frame of the filtered data\n",
    "            dfLocation - data frame of the filtered data (ID as index)\n",
    "    \"\"\"\n",
    "    # Open data as data frame\n",
    "    df = pd.read_csv(pathAndFilename, encoding='latin1', low_memory=False, sep=\"\\t\")\n",
    "    df = df.fillna(0) # NaN corresponds to 0 count rates\n",
    "    df = df[df[\"Number\"] != \"########\"]\n",
    "\n",
    "    # Open xml file\n",
    "    xmlTree = ET.parse(pathToXML)\n",
    "    root = xmlTree.getroot()\n",
    "\n",
    "    # Get from records the identification ID and map these to location \n",
    "    IDList = []\n",
    "    lat = {}\n",
    "    lon = {}\n",
    "\n",
    "    for record in root.findall(\".//{http://datex2.eu/schema/2/2_0}measurementSiteRecord\"):\n",
    "        identification = record.findall(\".//{http://datex2.eu/schema/2/2_0}measurementSiteIdentification\");\n",
    "        if len(identification) is not 1:\n",
    "            print(\"More IDs per site. Take first one.\")\n",
    "\n",
    "        coordinates = record.find(\".//{http://datex2.eu/schema/2/2_0}pointCoordinates\")\n",
    "\n",
    "        #ID.append(identification[0].text)\n",
    "        ID = identification[0].text.split(\"[\")[0]\n",
    "        IDList.append(int(ID))\n",
    "        lat[int(ID)] = float(coordinates.find(\".//{http://datex2.eu/schema/2/2_0}latitude\").text)\n",
    "        lon[int(ID)] = float(coordinates.find(\".//{http://datex2.eu/schema/2/2_0}longitude\").text)\n",
    "\n",
    "    # Only consider those coles, where location information is available\n",
    "    df = df[df[\"ElemUID\"].isin(IDList)]\n",
    "\n",
    "    # Create data frame with location info\n",
    "    dfLocation = pd.DataFrame()\n",
    "    dfLocation[\"ElemUID\"] = df[\"ElemUID\"]\n",
    "    dfLocation = dfLocation.drop_duplicates(\"ElemUID\")\n",
    "    \n",
    "    dfLocation[\"Lat\"] = dfLocation[\"ElemUID\"]\n",
    "    dfLocation[\"Lon\"] = dfLocation[\"ElemUID\"]\n",
    "    \n",
    "    dfLocation.set_index(\"ElemUID\", inplace=True)\n",
    "  \n",
    "    dfLocation = dfLocation.replace({\"Lat\": lat})\n",
    "    dfLocation = dfLocation.replace({\"Lon\": lon})\n",
    "    \n",
    "    return df, dfLocation"
   ]
  },
  {
   "cell_type": "markdown",
   "metadata": {},
   "source": [
    "## Run the preprocessing and save data (TODO)"
   ]
  },
  {
   "cell_type": "code",
   "execution_count": 51,
   "metadata": {
    "scrolled": false
   },
   "outputs": [],
   "source": [
    "file = \"Mobility/dynamische Verkehrsdaten/FFM_DZG_180701/FFM_DEZ_180701.csv\"\n",
    "df, dfLocation = prepareDynData(file)"
   ]
  },
  {
   "cell_type": "code",
   "execution_count": null,
   "metadata": {},
   "outputs": [],
   "source": []
  }
 ],
 "metadata": {
  "kernelspec": {
   "display_name": "Python 3",
   "language": "python",
   "name": "python3"
  },
  "language_info": {
   "codemirror_mode": {
    "name": "ipython",
    "version": 3
   },
   "file_extension": ".py",
   "mimetype": "text/x-python",
   "name": "python",
   "nbconvert_exporter": "python",
   "pygments_lexer": "ipython3",
   "version": "3.6.5"
  }
 },
 "nbformat": 4,
 "nbformat_minor": 2
}
